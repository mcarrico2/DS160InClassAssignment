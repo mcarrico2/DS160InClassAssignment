{
 "cells": [
  {
   "cell_type": "markdown",
   "id": "7b8e8c07",
   "metadata": {},
   "source": [
    "# Numpy- inclass assignment 2 (Group of two)\n",
    "## Submit your work using GitHub to Moodle"
   ]
  },
  {
   "cell_type": "markdown",
   "id": "4a478332",
   "metadata": {},
   "source": [
    "### Generate a random numpy array for Month of October where the highest temperature varies between 48-81 degree Farenheit\n",
    "- Keep in mind the length of the month\n",
    "- set a random seed of 1 for regenerate\n",
    "- Display the numpy array named `Temp_O` and find out the minimum and maximum temperature of month"
   ]
  },
  {
   "cell_type": "code",
   "execution_count": 7,
   "id": "b476b0c6",
   "metadata": {},
   "outputs": [
    {
     "name": "stdout",
     "output_type": "stream",
     "text": [
      "[60 56 57 59 53 63 48 64 49 60 55 54 73 68 66 68 59 76 77 62 52 71 71 78\n",
      " 80 70 61 57 55 70 49]\n"
     ]
    }
   ],
   "source": [
    "import numpy as np\n",
    "np.random.seed(1)\n",
    "Temp_O=np.random.randint(48,82, 31)\n",
    "print(Temp_O)"
   ]
  },
  {
   "cell_type": "code",
   "execution_count": 9,
   "id": "2231f10d",
   "metadata": {},
   "outputs": [
    {
     "name": "stdout",
     "output_type": "stream",
     "text": [
      "Heightest Temp in October:     80\n"
     ]
    }
   ],
   "source": [
    "print(\"Heightest Temp in October:    \", Temp_O.max())"
   ]
  },
  {
   "cell_type": "code",
   "execution_count": 10,
   "id": "bacae29f",
   "metadata": {},
   "outputs": [
    {
     "name": "stdout",
     "output_type": "stream",
     "text": [
      "Lowest Temp in October:     48\n"
     ]
    }
   ],
   "source": [
    "print(\"Lowest Temp in October:    \", Temp_O.min())"
   ]
  },
  {
   "cell_type": "markdown",
   "id": "faba3521",
   "metadata": {},
   "source": [
    "### Load the numpy file contains the temperature of Month of December and store it to a variable named Temp_D"
   ]
  },
  {
   "cell_type": "code",
   "execution_count": 22,
   "id": "80b7bf19",
   "metadata": {},
   "outputs": [],
   "source": [
    "Temp_D=np.load(\"Temp_December.npy\")"
   ]
  },
  {
   "cell_type": "code",
   "execution_count": 23,
   "id": "5000e0af",
   "metadata": {},
   "outputs": [
    {
     "name": "stdout",
     "output_type": "stream",
     "text": [
      "[44 50 19 15 16 18 12 22  7 23  8 19 14 52 13 32 57 27 44 25 27 18 49 35\n",
      " 36 21 57 11 30 30 48]\n"
     ]
    }
   ],
   "source": [
    "print(Temp_D)"
   ]
  },
  {
   "cell_type": "code",
   "execution_count": null,
   "id": "8f397ede",
   "metadata": {},
   "outputs": [],
   "source": []
  },
  {
   "cell_type": "markdown",
   "id": "641559dd",
   "metadata": {},
   "source": [
    "### Compare two numpy array - Temp_O and Temp_D\n",
    "- Elementwise\n",
    "- Arraywise"
   ]
  },
  {
   "cell_type": "code",
   "execution_count": 24,
   "id": "993d3d61",
   "metadata": {},
   "outputs": [
    {
     "data": {
      "text/plain": [
       "array([False, False, False, False, False, False, False, False, False,\n",
       "       False, False, False, False, False, False, False, False, False,\n",
       "       False, False, False, False, False, False, False, False, False,\n",
       "       False, False, False, False])"
      ]
     },
     "execution_count": 24,
     "metadata": {},
     "output_type": "execute_result"
    }
   ],
   "source": [
    "Temp_O == Temp_D"
   ]
  },
  {
   "cell_type": "code",
   "execution_count": 25,
   "id": "765cb9e3",
   "metadata": {},
   "outputs": [
    {
     "data": {
      "text/plain": [
       "False"
      ]
     },
     "execution_count": 25,
     "metadata": {},
     "output_type": "execute_result"
    }
   ],
   "source": [
    "np.array_equal(Temp_O, Temp_D)"
   ]
  },
  {
   "cell_type": "code",
   "execution_count": null,
   "id": "d7c75980",
   "metadata": {},
   "outputs": [],
   "source": []
  },
  {
   "cell_type": "markdown",
   "id": "7b1e5fc9",
   "metadata": {},
   "source": [
    "### Find out the:\n",
    "- Average temperature\n",
    "- Standard deviation\n",
    "- Varience\n",
    "- Minimum temp\n",
    "- Maximum temp\n",
    "- Median\n",
    "- Inter Quartile Range\n",
    "#### for Month of December"
   ]
  },
  {
   "cell_type": "code",
   "execution_count": 27,
   "id": "4c038182",
   "metadata": {},
   "outputs": [
    {
     "name": "stdout",
     "output_type": "stream",
     "text": [
      "Mean Temperature:        28.0\n",
      "Standard deviation:      15.0\n",
      "Minimum Temperature:     7\n",
      "Maximum Temperature:     57\n",
      "25th percentile:         17.0\n",
      "Median:                  25.0\n",
      "75th percentile:         40.0\n",
      "Inter Quartile Range:    23.0\n"
     ]
    }
   ],
   "source": [
    "print(\"Mean Temperature:       \", np.round(Temp_D.mean()))\n",
    "print(\"Standard deviation:     \", np.round(Temp_D.std()))\n",
    "print(\"Minimum Temperature:    \", Temp_D.min())\n",
    "print(\"Maximum Temperature:    \", Temp_D.max())\n",
    "print(\"25th percentile:        \", np.percentile(Temp_D,25))\n",
    "print(\"Median:                 \", np.median(Temp_D))\n",
    "print(\"75th percentile:        \", np.percentile(Temp_D,75))\n",
    "print(\"Inter Quartile Range:   \", np.percentile(Temp_D, 75)-np.percentile(Temp_D,25))"
   ]
  },
  {
   "cell_type": "code",
   "execution_count": null,
   "id": "5a9a320a",
   "metadata": {},
   "outputs": [],
   "source": []
  },
  {
   "cell_type": "code",
   "execution_count": null,
   "id": "f68cf92f",
   "metadata": {},
   "outputs": [],
   "source": []
  },
  {
   "cell_type": "markdown",
   "id": "732d294a",
   "metadata": {},
   "source": [
    "### Plot the distribution of December Temperature using Matplotlib\n",
    "- add title and create proper labels"
   ]
  },
  {
   "cell_type": "code",
   "execution_count": 29,
   "id": "890595ec",
   "metadata": {},
   "outputs": [
    {
     "data": {
      "text/plain": [
       "<function matplotlib.pyplot.show(close=None, block=None)>"
      ]
     },
     "execution_count": 29,
     "metadata": {},
     "output_type": "execute_result"
    },
    {
     "data": {
      "image/png": "[encoded data removed]",
      "text/plain": [
       "<Figure size 432x288 with 1 Axes>"
      ]
     },
     "metadata": {
      "needs_background": "light"
     },
     "output_type": "display_data"
    }
   ],
   "source": [
    "import matplotlib.pyplot as plt\n",
    "plt.hist(Temp_D)\n",
    "plt.title(\"Temperature distribution in December\")\n",
    "plt.xlabel(\"Temperature\")\n",
    "plt.ylabel(\"Days\")\n",
    "plt.show"
   ]
  },
  {
   "cell_type": "code",
   "execution_count": null,
   "id": "eed5f02e",
   "metadata": {},
   "outputs": [],
   "source": []
  },
  {
   "cell_type": "code",
   "execution_count": null,
   "id": "a58c262c",
   "metadata": {},
   "outputs": [],
   "source": []
  },
  {
   "cell_type": "markdown",
   "id": "d48f4063",
   "metadata": {},
   "source": [
    "### Convert the Temp_D to Celsius and store it to a variable names Temp_C. \n",
    "- Round off the result\n",
    "- Save it to a numpy file called DecemberTemp_Celsius"
   ]
  },
  {
   "cell_type": "code",
   "execution_count": 30,
   "id": "5e786c6e",
   "metadata": {},
   "outputs": [],
   "source": [
    "Temp_C = (Temp_D-32)/9*5"
   ]
  },
  {
   "cell_type": "code",
   "execution_count": 31,
   "id": "beb1f329",
   "metadata": {},
   "outputs": [
    {
     "name": "stdout",
     "output_type": "stream",
     "text": [
      "[  6.66666667  10.          -7.22222222  -9.44444444  -8.88888889\n",
      "  -7.77777778 -11.11111111  -5.55555556 -13.88888889  -5.\n",
      " -13.33333333  -7.22222222 -10.          11.11111111 -10.55555556\n",
      "   0.          13.88888889  -2.77777778   6.66666667  -3.88888889\n",
      "  -2.77777778  -7.77777778   9.44444444   1.66666667   2.22222222\n",
      "  -6.11111111  13.88888889 -11.66666667  -1.11111111  -1.11111111\n",
      "   8.88888889]\n"
     ]
    }
   ],
   "source": [
    "print(Temp_C)"
   ]
  },
  {
   "cell_type": "code",
   "execution_count": 32,
   "id": "8029c92f",
   "metadata": {},
   "outputs": [
    {
     "data": {
      "text/plain": [
       "array([  7.,  10.,  -7.,  -9.,  -9.,  -8., -11.,  -6., -14.,  -5., -13.,\n",
       "        -7., -10.,  11., -11.,   0.,  14.,  -3.,   7.,  -4.,  -3.,  -8.,\n",
       "         9.,   2.,   2.,  -6.,  14., -12.,  -1.,  -1.,   9.])"
      ]
     },
     "execution_count": 32,
     "metadata": {},
     "output_type": "execute_result"
    }
   ],
   "source": [
    "np.rint(Temp_C)"
   ]
  },
  {
   "cell_type": "code",
   "execution_count": 33,
   "id": "ed4da1d7",
   "metadata": {},
   "outputs": [],
   "source": [
    "np.save(\"Temp_C.npy\", Temp_C)"
   ]
  },
  {
   "cell_type": "code",
   "execution_count": null,
   "id": "3f6a3828",
   "metadata": {},
   "outputs": [],
   "source": []
  }
 ],
 "metadata": {
  "kernelspec": {
   "display_name": "Python 3 (ipykernel)",
   "language": "python",
   "name": "python3"
  },
  "language_info": {
   "codemirror_mode": {
    "name": "ipython",
    "version": 3
   },
   "file_extension": ".py",
   "mimetype": "text/x-python",
   "name": "python",
   "nbconvert_exporter": "python",
   "pygments_lexer": "ipython3",
   "version": "3.9.12"
  }
 },
 "nbformat": 4,
 "nbformat_minor": 5
}
